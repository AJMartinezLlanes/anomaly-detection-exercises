{
 "cells": [
  {
   "cell_type": "markdown",
   "metadata": {},
   "source": [
    "1. Using lemonade.csv dataset and focusing on continuous variables:\n",
    "    - Use the IQR Range Rule and the upper and lower bounds to identify the lower outliers of each column of lemonade.csv, using the multiplier of 1.5. Do these lower outliers make sense? Which outliers should be kept?\n",
    "    - Use the IQR Range Rule and the upper and upper bounds to identify the upper outliers of each column of lemonade.csv, using the multiplier of 1.5. Do these upper outliers make sense? Which outliers should be kept?\n",
    "    - Using the multiplier of 3, IQR Range Rule, and the lower bounds, identify the outliers below the lower bound in each colum of lemonade.csv. Do these lower outliers make sense? Which outliers should be kept?\n",
    "    - Using the multiplier of 3, IQR Range Rule, and the upper bounds, identify the outliers above the upper_bound in each colum of lemonade.csv. Do these upper outliers make sense? Which outliers should be kept?\n",
    "\n",
    "1. Identify if any columns in lemonade.csv are normally distributed. For normally distributed columns:\n",
    "    - Use a 2 sigma decision rule to isolate the outliers.\n",
    "        - Do these make sense?\n",
    "        - Should certain outliers be kept or removed?\n",
    "\n",
    "1. Now use a 3 sigma decision rule to isolate the outliers in the normally distributed columns from lemonade.csv\n",
    "\n",
    "\n"
   ]
  },
  {
   "cell_type": "code",
   "execution_count": 9,
   "metadata": {},
   "outputs": [],
   "source": [
    "import numpy as np\n",
    "import pandas as pd\n",
    "import seaborn as sns\n",
    "import matplotlib.pyplot as plt\n",
    "%matplotlib inline"
   ]
  },
  {
   "cell_type": "code",
   "execution_count": 10,
   "metadata": {},
   "outputs": [
    {
     "data": {
      "text/plain": [
       "(     Date        Day  Temperature  Rainfall  Flyers  Price  Sales\n",
       " 0  1/1/17     Sunday         27.0      2.00      15    0.5     10\n",
       " 1  1/2/17     Monday         28.9      1.33      15    0.5     13\n",
       " 2  1/3/17    Tuesday         34.5      1.33      27    0.5     15\n",
       " 3  1/4/17  Wednesday         44.1      1.05      28    0.5     17\n",
       " 4  1/5/17   Thursday         42.4      1.00      33    0.5     18,\n",
       "          Date        Day  Temperature  Rainfall  Flyers  Price  Sales\n",
       " 360  12/27/17  Wednesday         42.7      1.00      33    0.5     19\n",
       " 361  12/28/17   Thursday         37.8      1.25      32    0.5     16\n",
       " 362  12/29/17     Friday         39.5      1.25      17    0.5     15\n",
       " 363  12/30/17   Saturday         30.9      1.43      22    0.5     13\n",
       " 364  12/31/17     Sunday         15.1      2.50       9    0.5      7)"
      ]
     },
     "execution_count": 10,
     "metadata": {},
     "output_type": "execute_result"
    }
   ],
   "source": [
    "df = pd.read_csv('lemonade.csv')\n",
    "df.head(), df.tail()"
   ]
  },
  {
   "cell_type": "code",
   "execution_count": 11,
   "metadata": {},
   "outputs": [
    {
     "name": "stdout",
     "output_type": "stream",
     "text": [
      "<class 'pandas.core.frame.DataFrame'>\n",
      "RangeIndex: 365 entries, 0 to 364\n",
      "Data columns (total 7 columns):\n",
      " #   Column       Non-Null Count  Dtype  \n",
      "---  ------       --------------  -----  \n",
      " 0   Date         365 non-null    object \n",
      " 1   Day          365 non-null    object \n",
      " 2   Temperature  365 non-null    float64\n",
      " 3   Rainfall     365 non-null    float64\n",
      " 4   Flyers       365 non-null    int64  \n",
      " 5   Price        365 non-null    float64\n",
      " 6   Sales        365 non-null    int64  \n",
      "dtypes: float64(3), int64(2), object(2)\n",
      "memory usage: 20.1+ KB\n"
     ]
    }
   ],
   "source": [
    "df.info()"
   ]
  },
  {
   "cell_type": "markdown",
   "metadata": {},
   "source": [
    "Looks like 365 days in 2017. We should make 'Date' column into date format and make it the index."
   ]
  },
  {
   "cell_type": "code",
   "execution_count": 12,
   "metadata": {},
   "outputs": [],
   "source": [
    "df.Date = pd.to_datetime(df.Date)\n"
   ]
  },
  {
   "cell_type": "code",
   "execution_count": 13,
   "metadata": {},
   "outputs": [],
   "source": [
    "df = df.set_index('Date')\n"
   ]
  },
  {
   "cell_type": "code",
   "execution_count": 14,
   "metadata": {},
   "outputs": [
    {
     "data": {
      "text/plain": [
       "(                  Day  Temperature  Rainfall  Flyers  Price  Sales\n",
       " Date                                                              \n",
       " 2017-01-01     Sunday         27.0      2.00      15    0.5     10\n",
       " 2017-01-02     Monday         28.9      1.33      15    0.5     13\n",
       " 2017-01-03    Tuesday         34.5      1.33      27    0.5     15\n",
       " 2017-01-04  Wednesday         44.1      1.05      28    0.5     17\n",
       " 2017-01-05   Thursday         42.4      1.00      33    0.5     18,\n",
       "                   Day  Temperature  Rainfall  Flyers  Price  Sales\n",
       " Date                                                              \n",
       " 2017-12-27  Wednesday         42.7      1.00      33    0.5     19\n",
       " 2017-12-28   Thursday         37.8      1.25      32    0.5     16\n",
       " 2017-12-29     Friday         39.5      1.25      17    0.5     15\n",
       " 2017-12-30   Saturday         30.9      1.43      22    0.5     13\n",
       " 2017-12-31     Sunday         15.1      2.50       9    0.5      7)"
      ]
     },
     "execution_count": 14,
     "metadata": {},
     "output_type": "execute_result"
    }
   ],
   "source": [
    "df.head(), df.tail()"
   ]
  },
  {
   "cell_type": "code",
   "execution_count": null,
   "metadata": {},
   "outputs": [],
   "source": []
  }
 ],
 "metadata": {
  "interpreter": {
   "hash": "38cca0c38332a56087b24af0bc80247f4fced29cb4f7f437d91dc159adec9c4e"
  },
  "kernelspec": {
   "display_name": "Python 3.9.7 ('base')",
   "language": "python",
   "name": "python3"
  },
  "language_info": {
   "codemirror_mode": {
    "name": "ipython",
    "version": 3
   },
   "file_extension": ".py",
   "mimetype": "text/x-python",
   "name": "python",
   "nbconvert_exporter": "python",
   "pygments_lexer": "ipython3",
   "version": "3.9.7"
  },
  "orig_nbformat": 4
 },
 "nbformat": 4,
 "nbformat_minor": 2
}
